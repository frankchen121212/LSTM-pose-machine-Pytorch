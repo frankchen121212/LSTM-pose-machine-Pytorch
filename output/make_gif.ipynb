{
 "cells": [
  {
   "cell_type": "code",
   "execution_count": 34,
   "metadata": {},
   "outputs": [],
   "source": [
    "from PIL import Image\n",
    "import imageio\n",
    "import os\n",
    "import matplotlib.pyplot as plt\n",
    "from tqdm import tqdm_notebook"
   ]
  },
  {
   "cell_type": "code",
   "execution_count": 35,
   "metadata": {},
   "outputs": [],
   "source": [
    "def get_frames(files):\n",
    "    frames = []\n",
    "    for f in sorted(files):\n",
    "        file_name = os.path.join(root,f)\n",
    "        before_resized = Image.open(file_name)\n",
    "        x,y = before_resized.size\n",
    "        new_x = 450\n",
    "        new_y = (y/x)*new_x\n",
    "        resized = before_resized.resize((int(new_x),int(new_y) ))\n",
    "        frames.append(resized)\n",
    "    return frames"
   ]
  },
  {
   "cell_type": "code",
   "execution_count": 36,
   "metadata": {},
   "outputs": [
    {
     "name": "stdout",
     "output_type": "stream",
     "text": [
      "saving video-->video_valid_2.gif\n"
     ]
    }
   ],
   "source": [
    "dataset = 'lpm_new/PennAction/epoch_valid'\n",
    "for root,folders,files in os.walk(dataset):\n",
    "    files = sorted(files)\n",
    "    frames = get_frames(files)\n",
    "    gif_name = 'video_{}.gif'.format('valid_2')\n",
    "    print('saving video-->{}'.format(gif_name))\n",
    "    imageio.mimsave(os.path.join(root,gif_name),frames,'GIF',duration=0.25)\n",
    "#     file_name = os.path.join(root,folders,file)\n",
    "\n",
    "    "
   ]
  },
  {
   "cell_type": "code",
   "execution_count": null,
   "metadata": {},
   "outputs": [],
   "source": []
  },
  {
   "cell_type": "code",
   "execution_count": null,
   "metadata": {},
   "outputs": [],
   "source": []
  }
 ],
 "metadata": {
  "kernelspec": {
   "display_name": "Python [conda env:python36]",
   "language": "python",
   "name": "conda-env-python36-py"
  },
  "language_info": {
   "codemirror_mode": {
    "name": "ipython",
    "version": 3
   },
   "file_extension": ".py",
   "mimetype": "text/x-python",
   "name": "python",
   "nbconvert_exporter": "python",
   "pygments_lexer": "ipython3",
   "version": "3.6.7"
  }
 },
 "nbformat": 4,
 "nbformat_minor": 2
}
